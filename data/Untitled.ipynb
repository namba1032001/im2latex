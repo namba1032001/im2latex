{
 "cells": [
  {
   "cell_type": "code",
   "execution_count": null,
   "id": "ca93143c",
   "metadata": {},
   "outputs": [],
   "source": [
    "#load data\n",
    "import pickle\n",
    "import pandas as pd\n",
    "import torch\n",
    "from pprint import pprint\n",
    "import numpy as np\n",
    "import matplotlib.pyplot as plt\n",
    "# df = pd.DataFrame(columns=['data', 'label'])\n",
    "df_train = torch.load(r'C:\\Users\\Admins\\Downloads\\im2latex-master\\data\\validate.pkl')\n",
    "plt.imshow(np.array(df_train[0][0]))\n",
    "# print(np.array(df_train[0][0]).shape)\n",
    "plt.show()"
   ]
  }
 ],
 "metadata": {
  "kernelspec": {
   "display_name": "Python 3 (ipykernel)",
   "language": "python",
   "name": "python3"
  },
  "language_info": {
   "codemirror_mode": {
    "name": "ipython",
    "version": 3
   },
   "file_extension": ".py",
   "mimetype": "text/x-python",
   "name": "python",
   "nbconvert_exporter": "python",
   "pygments_lexer": "ipython3",
   "version": "3.9.12"
  }
 },
 "nbformat": 4,
 "nbformat_minor": 5
}
